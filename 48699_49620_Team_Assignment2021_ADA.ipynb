{
 "cells": [
  {
   "cell_type": "markdown",
   "metadata": {
    "id": "distinct-tower"
   },
   "source": [
    "# Group project\n",
    "\n",
    "By delivering this notebook, we confirm that the group project was developed by the following students.\n",
    "\n",
    "## Student 1: Niclas Michael Groll, 48699 \n",
    "## Student 2: Constantin Baumann, 49620 \n"
   ]
  },
  {
   "cell_type": "markdown",
   "metadata": {
    "id": "productive-therapy"
   },
   "source": [
    "The group project will focus on analysing data on flights in the US.\n",
    "\n",
    "Unless otherwise specified, the problems can be solved using either Spark or Pandas.\n",
    "\n",
    "Some useful links:\n",
    "\n",
    "* [Spark web site](https://spark.apache.org/)\n",
    "\n",
    "* [Spark MLlib main page](https://spark.apache.org/mllib/)\n",
    "* [Spark MLlib guide](https://spark.apache.org/docs/latest/ml-guide.html)\n",
    "\n",
    "* [Spark GraphX main page](https://spark.apache.org/graphx/)\n",
    "* [Spark GraphFrames main page](https://graphframes.github.io/graphframes/docs/_site/index.html)\n",
    "* [Spark GraphFrames User Guide](https://graphframes.github.io/graphframes/docs/_site/user-guide.html)\n"
   ]
  },
  {
   "cell_type": "markdown",
   "metadata": {
    "id": "NVjSdAaf53bO"
   },
   "source": [
    "*Information on Colab/Docker from the group: Both Colab and Jupyter Notebook (including Docker) were used to create this group work. The final run of the solutions below was done in Colab.*"
   ]
  },
  {
   "cell_type": "markdown",
   "metadata": {
    "id": "verbal-democracy"
   },
   "source": [
    "## Colab setup \n",
    "\n",
    "The following cell will install Spark, if the notebook is running on COLAB. Before running this cell, you should access the following link [https://drive.google.com/drive/folders/1hylIwkzcOWjYMQW2wWSVRmAN9mEyGToP?usp=sharing](https://drive.google.com/drive/folders/1hylIwkzcOWjYMQW2wWSVRmAN9mEyGToP?usp=sharing)"
   ]
  },
  {
   "cell_type": "code",
   "execution_count": 2,
   "metadata": {
    "colab": {
     "base_uri": "https://localhost:8080/"
    },
    "id": "lyric-permit",
    "outputId": "3c67d3f7-a9fe-46ee-ff53-0a7ba2757200"
   },
   "outputs": [
    {
     "name": "stdout",
     "output_type": "stream",
     "text": [
      "Reading package lists... Done\n",
      "Building dependency tree       \n",
      "Reading state information... Done\n",
      "The following additional packages will be installed:\n",
      "  openjdk-8-jre-headless\n",
      "Suggested packages:\n",
      "  openjdk-8-demo openjdk-8-source libnss-mdns fonts-dejavu-extra\n",
      "  fonts-ipafont-gothic fonts-ipafont-mincho fonts-wqy-microhei\n",
      "  fonts-wqy-zenhei fonts-indic\n",
      "The following NEW packages will be installed:\n",
      "  openjdk-8-jdk-headless openjdk-8-jre-headless\n",
      "0 upgraded, 2 newly installed, 0 to remove and 37 not upgraded.\n",
      "Need to get 36.5 MB of archives.\n",
      "After this operation, 143 MB of additional disk space will be used.\n",
      "Get:1 http://archive.ubuntu.com/ubuntu bionic-updates/universe amd64 openjdk-8-jre-headless amd64 8u292-b10-0ubuntu1~18.04 [28.2 MB]\n",
      "Get:2 http://archive.ubuntu.com/ubuntu bionic-updates/universe amd64 openjdk-8-jdk-headless amd64 8u292-b10-0ubuntu1~18.04 [8,284 kB]\n",
      "Fetched 36.5 MB in 2s (17.2 MB/s)\n",
      "Selecting previously unselected package openjdk-8-jre-headless:amd64.\n",
      "(Reading database ... 155222 files and directories currently installed.)\n",
      "Preparing to unpack .../openjdk-8-jre-headless_8u292-b10-0ubuntu1~18.04_amd64.deb ...\n",
      "Unpacking openjdk-8-jre-headless:amd64 (8u292-b10-0ubuntu1~18.04) ...\n",
      "Selecting previously unselected package openjdk-8-jdk-headless:amd64.\n",
      "Preparing to unpack .../openjdk-8-jdk-headless_8u292-b10-0ubuntu1~18.04_amd64.deb ...\n",
      "Unpacking openjdk-8-jdk-headless:amd64 (8u292-b10-0ubuntu1~18.04) ...\n",
      "Setting up openjdk-8-jre-headless:amd64 (8u292-b10-0ubuntu1~18.04) ...\n",
      "update-alternatives: using /usr/lib/jvm/java-8-openjdk-amd64/jre/bin/orbd to provide /usr/bin/orbd (orbd) in auto mode\n",
      "update-alternatives: using /usr/lib/jvm/java-8-openjdk-amd64/jre/bin/servertool to provide /usr/bin/servertool (servertool) in auto mode\n",
      "update-alternatives: using /usr/lib/jvm/java-8-openjdk-amd64/jre/bin/tnameserv to provide /usr/bin/tnameserv (tnameserv) in auto mode\n",
      "Setting up openjdk-8-jdk-headless:amd64 (8u292-b10-0ubuntu1~18.04) ...\n",
      "update-alternatives: using /usr/lib/jvm/java-8-openjdk-amd64/bin/idlj to provide /usr/bin/idlj (idlj) in auto mode\n",
      "update-alternatives: using /usr/lib/jvm/java-8-openjdk-amd64/bin/wsimport to provide /usr/bin/wsimport (wsimport) in auto mode\n",
      "update-alternatives: using /usr/lib/jvm/java-8-openjdk-amd64/bin/jsadebugd to provide /usr/bin/jsadebugd (jsadebugd) in auto mode\n",
      "update-alternatives: using /usr/lib/jvm/java-8-openjdk-amd64/bin/native2ascii to provide /usr/bin/native2ascii (native2ascii) in auto mode\n",
      "update-alternatives: using /usr/lib/jvm/java-8-openjdk-amd64/bin/javah to provide /usr/bin/javah (javah) in auto mode\n",
      "update-alternatives: using /usr/lib/jvm/java-8-openjdk-amd64/bin/hsdb to provide /usr/bin/hsdb (hsdb) in auto mode\n",
      "update-alternatives: using /usr/lib/jvm/java-8-openjdk-amd64/bin/clhsdb to provide /usr/bin/clhsdb (clhsdb) in auto mode\n",
      "update-alternatives: using /usr/lib/jvm/java-8-openjdk-amd64/bin/extcheck to provide /usr/bin/extcheck (extcheck) in auto mode\n",
      "update-alternatives: using /usr/lib/jvm/java-8-openjdk-amd64/bin/schemagen to provide /usr/bin/schemagen (schemagen) in auto mode\n",
      "update-alternatives: using /usr/lib/jvm/java-8-openjdk-amd64/bin/xjc to provide /usr/bin/xjc (xjc) in auto mode\n",
      "update-alternatives: using /usr/lib/jvm/java-8-openjdk-amd64/bin/jhat to provide /usr/bin/jhat (jhat) in auto mode\n",
      "update-alternatives: using /usr/lib/jvm/java-8-openjdk-amd64/bin/wsgen to provide /usr/bin/wsgen (wsgen) in auto mode\n",
      "Collecting pyspark==3.1.2\n",
      "  Downloading pyspark-3.1.2.tar.gz (212.4 MB)\n",
      "\u001b[K     |████████████████████████████████| 212.4 MB 69 kB/s \n",
      "\u001b[?25hCollecting py4j==0.10.9\n",
      "  Downloading py4j-0.10.9-py2.py3-none-any.whl (198 kB)\n",
      "\u001b[K     |████████████████████████████████| 198 kB 30.6 MB/s \n",
      "\u001b[?25hBuilding wheels for collected packages: pyspark\n",
      "  Building wheel for pyspark (setup.py) ... \u001b[?25l\u001b[?25hdone\n",
      "  Created wheel for pyspark: filename=pyspark-3.1.2-py2.py3-none-any.whl size=212880768 sha256=0afea71bd64fdfaa73c2d2218abab3ff22470f8cf6fb2f314e38b31acc156817\n",
      "  Stored in directory: /root/.cache/pip/wheels/a5/0a/c1/9561f6fecb759579a7d863dcd846daaa95f598744e71b02c77\n",
      "Successfully built pyspark\n",
      "Installing collected packages: py4j, pyspark\n",
      "Successfully installed py4j-0.10.9 pyspark-3.1.2\n",
      "--2021-12-08 22:29:56--  https://repos.spark-packages.org/graphframes/graphframes/0.8.2-spark3.1-s_2.12/graphframes-0.8.2-spark3.1-s_2.12.jar\n",
      "Resolving repos.spark-packages.org (repos.spark-packages.org)... 13.32.87.63, 13.32.87.119, 13.32.87.68, ...\n",
      "Connecting to repos.spark-packages.org (repos.spark-packages.org)|13.32.87.63|:443... connected.\n",
      "HTTP request sent, awaiting response... 200 OK\n",
      "Length: 247882 (242K) [binary/octet-stream]\n",
      "Saving to: ‘graphframes-0.8.2-spark3.1-s_2.12.jar’\n",
      "\n",
      "graphframes-0.8.2-s 100%[===================>] 242.07K  --.-KB/s    in 0.06s   \n",
      "\n",
      "2021-12-08 22:29:56 (4.21 MB/s) - ‘graphframes-0.8.2-spark3.1-s_2.12.jar’ saved [247882/247882]\n",
      "\n",
      "Mounted at /content/drive\n"
     ]
    }
   ],
   "source": [
    "#Run this cell to install Spark on Colab\n",
    "import os\n",
    "\n",
    "if 'COLAB_GPU' in os.environ : \n",
    "    !apt-get install openjdk-8-jdk-headless\n",
    "    !pip install pyspark==3.1.2\n",
    "    !wget https://repos.spark-packages.org/graphframes/graphframes/0.8.2-spark3.1-s_2.12/graphframes-0.8.2-spark3.1-s_2.12.jar\n",
    "    os.environ['PYSPARK_SUBMIT_ARGS'] = '--jars graphframes-0.8.2-spark3.1-s_2.12.jar pyspark-shell'\n",
    "\n",
    "    from google.colab import drive\n",
    "    drive.mount('/content/drive')\n",
    "\n"
   ]
  },
  {
   "cell_type": "markdown",
   "metadata": {
    "id": "uSUO0ClDjaqM"
   },
   "source": []
  },
  {
   "cell_type": "markdown",
   "metadata": {
    "id": "fantastic-cache"
   },
   "source": [
    "## Local setup\n",
    "\n",
    "For running the group project locally, you should create a directory named **data** in the directory where you have this notebook. Then, you should download to the **data** directory the files in the following link: [https://drive.google.com/drive/folders/1hylIwkzcOWjYMQW2wWSVRmAN9mEyGToP?usp=sharing](https://drive.google.com/drive/folders/1hylIwkzcOWjYMQW2wWSVRmAN9mEyGToP?usp=sharing)."
   ]
  },
  {
   "cell_type": "markdown",
   "metadata": {
    "id": "liquid-complex"
   },
   "source": [
    "## Initialization"
   ]
  },
  {
   "cell_type": "markdown",
   "metadata": {
    "id": "technological-elevation"
   },
   "source": [
    "Import libraries. "
   ]
  },
  {
   "cell_type": "code",
   "execution_count": 3,
   "metadata": {
    "colab": {
     "base_uri": "https://localhost:8080/"
    },
    "id": "sudden-pregnancy",
    "outputId": "e259524d-014c-4cb1-b847-d1916d0a27a3"
   },
   "outputs": [
    {
     "name": "stdout",
     "output_type": "stream",
     "text": [
      "3.1.2\n"
     ]
    }
   ],
   "source": [
    "import os\n",
    "import time\n",
    "import pandas as pd\n",
    "import numpy as np\n",
    "import matplotlib.pyplot as plt\n",
    "import pyspark\n",
    "from pyspark.sql import SparkSession\n",
    "from pyspark.sql.types import *\n",
    "from pyspark.sql.functions import *\n",
    "from pyspark.ml.linalg import Vectors\n",
    "from pyspark.ml.clustering import KMeans\n",
    "from pyspark.ml.evaluation import *\n",
    "from pyspark.ml.feature import *\n",
    "\n",
    "plt.style.use('seaborn')\n",
    "\n",
    "print(pyspark.__version__)"
   ]
  },
  {
   "cell_type": "markdown",
   "metadata": {
    "id": "southwest-theta"
   },
   "source": [
    "Let's start spark session and set *log* level to ERROR."
   ]
  },
  {
   "cell_type": "code",
   "execution_count": 4,
   "metadata": {
    "id": "varying-master"
   },
   "outputs": [],
   "source": [
    "spark = SparkSession.builder \\\n",
    "    .master(\"local\") \\\n",
    "    .appName(\"Group project\") \\\n",
    "    .config(\"spark.sql.execution.arrow.pyspark.enabled\", \"true\") \\\n",
    "    .getOrCreate()\n",
    "\n",
    "if 'COLAB_GPU' in os.environ : \n",
    "    spark.sparkContext.addPyFile('graphframes-0.8.2-spark3.1-s_2.12.jar')\n",
    "elif 'DATABRICKS_RUNTIME_VERSION' in os.environ : \n",
    "    # TO BE COMPLETE\n",
    "    ;\n",
    "else:\n",
    "    spark.sparkContext.addPyFile('/usr/local/spark/jars/graphframes-0.8.1-spark3.0-s_2.12.jar')\n",
    "\n",
    "\n",
    "spark.sparkContext.setLogLevel(\"ERROR\")"
   ]
  },
  {
   "cell_type": "markdown",
   "metadata": {
    "id": "interracial-cleanup"
   },
   "source": [
    "## Data selection\n",
    "\n",
    "This cell controls the dataset you will be using. Note that this cell will control the path to the files, dependening on the platform you are using to run the code.\n"
   ]
  },
  {
   "cell_type": "code",
   "execution_count": 5,
   "metadata": {
    "id": "demographic-sewing"
   },
   "outputs": [],
   "source": [
    "# Comment the following \n",
    "#flightsF = \"sample.csv\"\n",
    "#flightsF = \"complete.csv\"\n",
    "#flightsF = \"data-2009.csv\"\n",
    "#flightsF = \"data-2010.csv\"\n",
    "#flightsF = \"data-2011.csv\"\n",
    "#flightsF = \"data-2012.csv\"\n",
    "#flightsF = \"data-2013.csv\"\n",
    "#flightsF = \"data-2014.csv\"\n",
    "#flightsF = \"data-2015.csv\"\n",
    "flightsF = \"data-2016.csv\"\n",
    "#flightsF = \"data-2017.csv\"\n",
    "#flightsF = \"data-2018.csv\"\n",
    "\n",
    "if 'COLAB_GPU' in os.environ : \n",
    "    FLIGHTS_FILENAME = \"/content/drive/MyDrive/group2122/\" + flightsF\n",
    "    AIRPORTS_FILENAME = \"/content/drive/MyDrive/group2122/airports.csv\"\n",
    "    HOLIDAYS_FILENAME = \"/content/drive/MyDrive/group2122/holidays.csv\"\n",
    "elif 'DATABRICKS_RUNTIME_VERSION' in os.environ : \n",
    "    # TO BE COMPLETE\n",
    "    ;\n",
    "else:\n",
    "    FLIGHTS_FILENAME = os.path.join( \"data\", flightsF)\n",
    "    AIRPORTS_FILENAME = os.path.join( \"data\", \"airports.csv\")\n",
    "    HOLIDAYS_FILENAME = os.path.join( \"data\", \"holidays.csv\")\n"
   ]
  },
  {
   "cell_type": "markdown",
   "metadata": {
    "id": "weekly-advocacy"
   },
   "source": [
    "## Datasets\n",
    "\n",
    "This section describes the datasets you have available for your analysis."
   ]
  },
  {
   "cell_type": "markdown",
   "metadata": {
    "id": "unlike-attempt"
   },
   "source": [
    "### Flights\n",
    "\n",
    "The flights dataset, generated from data available at [https://www.transtats.bts.gov/DataIndex.asp](https://www.transtats.bts.gov/DataIndex.asp), includes the following columns:\n",
    "\n",
    "* FL_DATE: date of the flight (format: yyyy-mm-dd)\n",
    "* OP_CARRIER: carrier code\n",
    "* OP_CARRIER_FL_NUM: carrier flight number\n",
    "* ORIGIN: origin airport (using IATA codes)\n",
    "* DEST: destination airport (using IATA codes)\n",
    "* CRS_DEP_TIME: scheduled local departure time (format for all times: hh:mm)\n",
    "* DEP_TIME: actual departure time\n",
    "* DEP_DELAY: departure delay, in minutes\n",
    "* TAXI_OUT: taxi out time\n",
    "* WHEELS_OFF: actual local wheel off time\n",
    "* WHEELS_ON: actual local wheel on time\n",
    "* TAXI_IN: actual local taxi in time\n",
    "* CRS_ARR_TIME: scheduled local arrival time\n",
    "* ARR_TIME: actual arrival time\n",
    "* ARR_DELAY: arrival delay, in minutes\n",
    "* CANCELLED: 1 if the flight has been cancelled; 0 otherwise\n",
    "* CANCELLATION_CODE: code of cancelation (A = carrier, B = weather, C = NAS, D = security)\n",
    "* DIVERTED: 1 if the flight has been diverted; 0 otherwise\n",
    "* CRS_ELAPSED_TIME: estimated elapsed time\n",
    "* ACTUAL_ELAPSED_TIME: actual elapsed time\n",
    "* AIR_TIME: flight time, in minutes\n",
    "* DISTANCE: flight distance, in miles\n",
    "* CARRIER_DELAY: delay due to carrier, in minutes\n",
    "* WEATHER_DELAY: delay due to weather, in minutes\n",
    "* NAS_DELAY: delay due to NAS, in minutes\n",
    "* SECURITY_DELAY: delay due to security, in minutes\n",
    "* LATE_AIRCRAFT_DELAY: delay due to late aircraft, in minutes\n",
    "\n",
    "The following data files are available:\n",
    "\n",
    "* complete.csv : complete data set, including data from 2009 to 2018\n",
    "* sample.csv : sample data set, including data from July 1 to July 15, from years 2009 to 2018\n",
    "* data-20xx.csv : data set for a particular year\n",
    "\n",
    "Load the dataset into flightsDF dataframe and register flights under view name **flights**. We are setting the schema programmatically, because inferring the schema in a very large dataframe is slow.\n"
   ]
  },
  {
   "cell_type": "code",
   "execution_count": 6,
   "metadata": {
    "colab": {
     "base_uri": "https://localhost:8080/"
    },
    "id": "injured-welding",
    "outputId": "6b663212-2cc4-469f-855c-29bbe96f2647"
   },
   "outputs": [
    {
     "name": "stdout",
     "output_type": "stream",
     "text": [
      "+----------+----------+-----------------+------+----+------------+--------+---------+--------+----------+---------+-------+------------+--------+---------+---------+-----------------+--------+----------------+-------------------+--------+--------+-------------+-------------+---------+--------------+-------------------+\n",
      "|   FL_DATE|OP_CARRIER|OP_CARRIER_FL_NUM|ORIGIN|DEST|CRS_DEP_TIME|DEP_TIME|DEP_DELAY|TAXI_OUT|WHEELS_OFF|WHEELS_ON|TAXI_IN|CRS_ARR_TIME|ARR_TIME|ARR_DELAY|CANCELLED|CANCELLATION_CODE|DIVERTED|CRS_ELAPSED_TIME|ACTUAL_ELAPSED_TIME|AIR_TIME|DISTANCE|CARRIER_DELAY|WEATHER_DELAY|NAS_DELAY|SECURITY_DELAY|LATE_AIRCRAFT_DELAY|\n",
      "+----------+----------+-----------------+------+----+------------+--------+---------+--------+----------+---------+-------+------------+--------+---------+---------+-----------------+--------+----------------+-------------------+--------+--------+-------------+-------------+---------+--------------+-------------------+\n",
      "|2016-01-01|        DL|             1248|   DTW| LAX|       19:35|   19:35|        0|      23|     19:58|    21:07|     13|       21:44|   21:20|      -24|        0|             null|       0|             309|                285|     249|    1979|         null|         null|     null|          null|               null|\n",
      "|2016-01-01|        DL|             1251|   ATL| GRR|       21:25|   21:30|        5|      13|     21:43|    23:15|      4|       23:21|   23:19|       -2|        0|             null|       0|             116|                109|      92|     640|         null|         null|     null|          null|               null|\n",
      "|2016-01-01|        DL|             1254|   LAX| ATL|       22:55|   22:56|        1|      19|     23:15|    05:42|      5|       06:00|   05:47|      -13|        0|             null|       0|             245|                231|     207|    1947|         null|         null|     null|          null|               null|\n",
      "+----------+----------+-----------------+------+----+------------+--------+---------+--------+----------+---------+-------+------------+--------+---------+---------+-----------------+--------+----------------+-------------------+--------+--------+-------------+-------------+---------+--------------+-------------------+\n",
      "only showing top 3 rows\n",
      "\n"
     ]
    }
   ],
   "source": [
    "flightsSchema = StructType([\n",
    "    StructField(\"FL_DATE\", DateType()),\n",
    "    StructField(\"OP_CARRIER\", StringType()),\n",
    "    StructField(\"OP_CARRIER_FL_NUM\", IntegerType()),\n",
    "    StructField(\"ORIGIN\", StringType()),\n",
    "    StructField(\"DEST\", StringType()),\n",
    "    StructField(\"CRS_DEP_TIME\", StringType()),\n",
    "    StructField(\"DEP_TIME\", StringType()),\n",
    "    StructField(\"DEP_DELAY\", IntegerType()),\n",
    "    StructField(\"TAXI_OUT\", IntegerType()),\n",
    "    StructField(\"WHEELS_OFF\", StringType()),\n",
    "    StructField(\"WHEELS_ON\", StringType()),\n",
    "    StructField(\"TAXI_IN\", IntegerType()),\n",
    "    StructField(\"CRS_ARR_TIME\", StringType()),\n",
    "    StructField(\"ARR_TIME\", StringType()),\n",
    "    StructField(\"ARR_DELAY\", IntegerType()),\n",
    "    StructField(\"CANCELLED\", IntegerType()),\n",
    "    StructField(\"CANCELLATION_CODE\", StringType()),\n",
    "    StructField(\"DIVERTED\", IntegerType()),\n",
    "    StructField(\"CRS_ELAPSED_TIME\", IntegerType()),\n",
    "    StructField(\"ACTUAL_ELAPSED_TIME\", IntegerType()),\n",
    "    StructField(\"AIR_TIME\", IntegerType()),\n",
    "    StructField(\"DISTANCE\", IntegerType()),\n",
    "    StructField(\"CARRIER_DELAY\", IntegerType()),\n",
    "    StructField(\"WEATHER_DELAY\", IntegerType()),\n",
    "    StructField(\"NAS_DELAY\", IntegerType()),\n",
    "    StructField(\"SECURITY_DELAY\", IntegerType()),\n",
    "    StructField(\"LATE_AIRCRAFT_DELAY\", IntegerType())\n",
    "    ])\n",
    "\n",
    "flightsDF = spark.read.option(\"header\", True).schema(flightsSchema).csv(FLIGHTS_FILENAME)\n",
    "\n",
    "flightsDF.createOrReplaceTempView(\"flights\")\n",
    "\n",
    "flightsDF.show(3)"
   ]
  },
  {
   "cell_type": "markdown",
   "metadata": {
    "id": "concrete-claim"
   },
   "source": [
    "### Airports\n",
    "\n",
    "The airports dataset includes the information about US airports - soure: [https://datahub.io/core/airport-codes](https://datahub.io/core/airport-codes).\n",
    "\n",
    "This dataset includes the following columns:\n",
    "\n",
    "* ident: identifier\n",
    "* type: type of airport\n",
    "* name: name of airport\n",
    "* elevation_ft: altitude, in feets\n",
    "* continent: code of continent\n",
    "* iso_country: coide of country\n",
    "* iso_regio: code of region\n",
    "* municipality: city\n",
    "* gps_code: code of GPS\n",
    "* iata_code: IATA code of aurport\n",
    "* local_code: local code of airport\n",
    "* coordinates: coordinates of airport\n",
    "\n",
    "Load the dataset into airportDF dataframe and register airports under view name **airports**.\n"
   ]
  },
  {
   "cell_type": "code",
   "execution_count": 7,
   "metadata": {
    "colab": {
     "base_uri": "https://localhost:8080/"
    },
    "id": "structural-month",
    "outputId": "3357babe-3f30-4275-adaf-065e7c66bd95"
   },
   "outputs": [
    {
     "name": "stdout",
     "output_type": "stream",
     "text": [
      "+-----+-------------+--------------------+------------+---------+-----------+----------+------------+--------+---------+----------+--------------------+\n",
      "|ident|         type|                name|elevation_ft|continent|iso_country|iso_region|municipality|gps_code|iata_code|local_code|         coordinates|\n",
      "+-----+-------------+--------------------+------------+---------+-----------+----------+------------+--------+---------+----------+--------------------+\n",
      "|  00A|     heliport|   Total Rf Heliport|          11|       NA|         US|     US-PA|    Bensalem|     00A|     null|       00A|-74.9336013793945...|\n",
      "| 00AA|small_airport|Aero B Ranch Airport|        3435|       NA|         US|     US-KS|       Leoti|    00AA|     null|      00AA|-101.473911, 38.7...|\n",
      "| 00AK|small_airport|        Lowell Field|         450|       NA|         US|     US-AK|Anchor Point|    00AK|     null|      00AK|-151.695999146, 5...|\n",
      "+-----+-------------+--------------------+------------+---------+-----------+----------+------------+--------+---------+----------+--------------------+\n",
      "only showing top 3 rows\n",
      "\n"
     ]
    }
   ],
   "source": [
    "airportsDF = spark.read.option(\"header\", True).option(\"inferSchema\",True).csv(AIRPORTS_FILENAME)\n",
    "\n",
    "airportsDF.createOrReplaceTempView(\"airports\")\n",
    "\n",
    "airportsDF.show(3)\n"
   ]
  },
  {
   "cell_type": "markdown",
   "metadata": {
    "id": "tropical-equation"
   },
   "source": [
    "Exemplify how you can plot information about airports."
   ]
  },
  {
   "cell_type": "code",
   "execution_count": 8,
   "metadata": {
    "colab": {
     "base_uri": "https://localhost:8080/",
     "height": 365
    },
    "id": "polyphonic-consumption",
    "outputId": "47cb60d6-6e88-4007-c0aa-2c70c848da85"
   },
   "outputs": [
    {
     "name": "stdout",
     "output_type": "stream",
     "text": [
      "Plotting airport location - using altitude for different color\n"
     ]
    },
    {
     "data": {
      "text/plain": [
       "<matplotlib.axes._subplots.AxesSubplot at 0x7f5ef039f5d0>"
      ]
     },
     "execution_count": 8,
     "metadata": {},
     "output_type": "execute_result"
    },
    {
     "data": {
      "image/png": "[encoded data removed]",
      "text/plain": [
       "<Figure size 576x396 with 2 Axes>"
      ]
     },
     "metadata": {},
     "output_type": "display_data"
    }
   ],
   "source": [
    "airportLocDF = spark.sql(\"\"\"SELECT FLOAT(TRIM(SUBSTRING_INDEX(coordinates,',',1))) AS lon,\n",
    "                                    FLOAT(TRIM(SUBSTRING_INDEX(coordinates,',',-1))) AS lat,\n",
    "                                    elevation_ft AS val\n",
    "                        FROM airports \n",
    "                        WHERE type = 'large_airport' AND continent = 'NA' AND iso_country = 'US'\"\"\")\n",
    "\n",
    "print('Plotting airport location - using altitude for different color')\n",
    "airportLocPD = airportLocDF.toPandas()\n",
    "airportLocPD.plot(x=\"lon\",y=\"lat\",c=\"val\",s=10,cmap=\"rainbow\",kind=\"scatter\")\n"
   ]
  },
  {
   "cell_type": "markdown",
   "metadata": {
    "id": "accredited-tuition"
   },
   "source": [
    "### Public holidays\n",
    "\n",
    "Dates of public holidays in the US.\n",
    "\n",
    "This dataset includes the following columns:\n",
    "\n",
    "* Date: date (format: yyyy-mm-dd)\n",
    "* Holiday: name of the holiday\n",
    "* WeekDay: day of week\n",
    "* Month: month (1-12)\n",
    "* Day: day (1-31)\n",
    "* Year: year (2002-2021)\n",
    "\n",
    "Load the dataset into holidaysDF dataframe and register holidays under view name **holidays**.\n"
   ]
  },
  {
   "cell_type": "code",
   "execution_count": 9,
   "metadata": {
    "colab": {
     "base_uri": "https://localhost:8080/"
    },
    "id": "swiss-custom",
    "outputId": "6ddf5a32-ad13-4a2e-db3a-c1a2d79a7a52"
   },
   "outputs": [
    {
     "name": "stdout",
     "output_type": "stream",
     "text": [
      "+----------+-----------+-------+-----+---+----+\n",
      "|      Date|    Holiday|WeekDay|Month|Day|Year|\n",
      "+----------+-----------+-------+-----+---+----+\n",
      "|2004-07-04|4th of July| Sunday|    7|  4|2004|\n",
      "|2005-07-04|4th of July| Monday|    7|  4|2005|\n",
      "|2006-07-04|4th of July|Tuesday|    7|  4|2006|\n",
      "+----------+-----------+-------+-----+---+----+\n",
      "only showing top 3 rows\n",
      "\n"
     ]
    }
   ],
   "source": [
    "holidaysDF = spark.read.option(\"header\", True).option(\"inferSchema\",True).csv(HOLIDAYS_FILENAME)\n",
    "\n",
    "holidaysDF.createOrReplaceTempView(\"holidays\")\n",
    "\n",
    "holidaysDF.show(3)\n"
   ]
  },
  {
   "cell_type": "markdown",
   "metadata": {
    "id": "challenging-barbados"
   },
   "source": [
    "## Problem 0 [1 point]\n",
    "\n",
    "We start by executing some simple statistics to compare the execution time between Spark and Pandas.\n"
   ]
  },
  {
   "cell_type": "markdown",
   "metadata": {
    "id": "awful-currency"
   },
   "source": [
    "### Code: Spark"
   ]
  },
  {
   "cell_type": "code",
   "execution_count": 10,
   "metadata": {
    "colab": {
     "base_uri": "https://localhost:8080/"
    },
    "id": "educated-adoption",
    "outputId": "69d2b53c-f8ec-449e-c444-6cb112c6b7f2"
   },
   "outputs": [
    {
     "name": "stdout",
     "output_type": "stream",
     "text": [
      "+----------+-----------+\n",
      "|OP_CARRIER|num_flights|\n",
      "+----------+-----------+\n",
      "|        UA|     545067|\n",
      "|        NK|     138199|\n",
      "|        AA|     914495|\n",
      "|        EV|     490990|\n",
      "|        B6|     282473|\n",
      "|        DL|     922746|\n",
      "|        OO|     605933|\n",
      "|        F9|      95121|\n",
      "|        HA|      76789|\n",
      "|        AS|     177280|\n",
      "|        VX|      69121|\n",
      "|        WN|    1299444|\n",
      "+----------+-----------+\n",
      "\n",
      "Runtime = 22.172283172607422\n"
     ]
    }
   ],
   "source": [
    "start_time = time.time()\n",
    "\n",
    "flightsSchema = StructType([\n",
    "    StructField(\"FL_DATE\", DateType()),\n",
    "    StructField(\"OP_CARRIER\", StringType()),\n",
    "    StructField(\"OP_CARRIER_FL_NUM\", IntegerType()),\n",
    "    StructField(\"ORIGIN\", StringType()),\n",
    "    StructField(\"DEST\", StringType()),\n",
    "    StructField(\"CRS_DEP_TIME\", StringType()),\n",
    "    StructField(\"DEP_TIME\", StringType()),\n",
    "    StructField(\"DEP_DELAY\", IntegerType()),\n",
    "    StructField(\"TAXI_OUT\", IntegerType()),\n",
    "    StructField(\"WHEELS_OFF\", StringType()),\n",
    "    StructField(\"WHEELS_ON\", StringType()),\n",
    "    StructField(\"TAXI_IN\", IntegerType()),\n",
    "    StructField(\"CRS_ARR_TIME\", StringType()),\n",
    "    StructField(\"ARR_TIME\", StringType()),\n",
    "    StructField(\"ARR_DELAY\", IntegerType()),\n",
    "    StructField(\"CANCELLED\", IntegerType()),\n",
    "    StructField(\"CANCELLATION_CODE\", StringType()),\n",
    "    StructField(\"DIVERTED\", IntegerType()),\n",
    "    StructField(\"CRS_ELAPSED_TIME\", IntegerType()),\n",
    "    StructField(\"ACTUAL_ELAPSED_TIME\", IntegerType()),\n",
    "    StructField(\"AIR_TIME\", IntegerType()),\n",
    "    StructField(\"DISTANCE\", IntegerType()),\n",
    "    StructField(\"CARRIER_DELAY\", IntegerType()),\n",
    "    StructField(\"WEATHER_DELAY\", IntegerType()),\n",
    "    StructField(\"NAS_DELAY\", IntegerType()),\n",
    "    StructField(\"SECURITY_DELAY\", IntegerType()),\n",
    "    StructField(\"LATE_AIRCRAFT_DELAY\", IntegerType())\n",
    "    ])\n",
    "\n",
    "flightsDF = spark.read.option(\"header\", True).schema(flightsSchema).csv(FLIGHTS_FILENAME)\n",
    "\n",
    "flightsDF.createOrReplaceTempView(\"flights_new\")\n",
    "\n",
    "result = spark.sql(\"SELECT OP_CARRIER, count(*) AS num_flights FROM flights_new GROUP BY OP_CARRIER\")\n",
    "result.show()\n",
    "\n",
    "end_time = time.time()\n",
    "print( \"Runtime = \" + str(end_time - start_time))\n",
    "\n"
   ]
  },
  {
   "cell_type": "markdown",
   "metadata": {
    "id": "lonely-format"
   },
   "source": [
    "* Execution time for sample.csv: **8,17 Seconds** (rounded)\n",
    "* Execution time for complete.csv: **200,1 Seconds** (rounded)\n",
    "\n",
    "Using GPU @ Colab (go to Execution time menu and change the type of execution time to include GPU):\n",
    "\n",
    "* Execution time for sample.csv: **12,37 Seconds** (rounded)\n",
    "* Execution time for complete.csv: **191,99 Seconds** (rounded)\n",
    "\n",
    "*Disclaimer: Numbers (runtime) vary per execution. We took the numbers from a specially conducted run using the sample and the complete dataset. Hence, variations between written numbers and the displayed showtime can occur.*"
   ]
  },
  {
   "cell_type": "markdown",
   "metadata": {
    "id": "accessible-foundation"
   },
   "source": [
    "### Code: Pandas library"
   ]
  },
  {
   "cell_type": "code",
   "execution_count": 11,
   "metadata": {
    "colab": {
     "base_uri": "https://localhost:8080/"
    },
    "id": "environmental-court",
    "outputId": "ea4588b0-2cae-41de-c8d9-10ce92be258b"
   },
   "outputs": [
    {
     "name": "stdout",
     "output_type": "stream",
     "text": [
      "            FL_DATE\n",
      "OP_CARRIER         \n",
      "AA           914495\n",
      "AS           177280\n",
      "B6           282473\n",
      "DL           922746\n",
      "EV           490990\n",
      "F9            95121\n",
      "HA            76789\n",
      "NK           138199\n",
      "OO           605933\n",
      "UA           545067\n",
      "VX            69121\n",
      "WN          1299444\n",
      "Runtime = 60.10528302192688\n"
     ]
    }
   ],
   "source": [
    "import pandas as pd\n",
    "import time\n",
    "\n",
    "start_time = time.time()\n",
    "mySchema = {\"FL_DATE\": \"str\",\n",
    "            \"OP_CARRIER\": \"str\",\n",
    "            \"OP_CARRIER_FL_NUM\":\"Int64\",\n",
    "            \"ORIGIN\":\"str\",\n",
    "            \"DEST\":\"str\",\n",
    "            \"CRS_DEP_TIME\":\"str\",\n",
    "            \"DEP_TIME\":\"str\",\n",
    "            \"DEP_DELAY\":\"Int64\",\n",
    "            \"TAXI_OUT\":\"Int64\",\n",
    "            \"WHEELS_OFF\":\"str\",\n",
    "            \"WHEELS_ON\":\"str\",\n",
    "            \"TAXI_IN\":\"Int64\",\n",
    "            \"CRS_ARR_TIME\":\"str\",\n",
    "            \"ARR_TIME\":\"str\",\n",
    "            \"ARR_DELAY\":\"Int64\",\n",
    "            \"CANCELLED\":\"Int64\",\n",
    "            \"CANCELLATION_CODE\":\"str\",\n",
    "            \"DIVERTED\":\"Int64\",\n",
    "            \"CRS_ELAPSED_TIME\":\"Int64\",\n",
    "            \"ACTUAL_ELAPSED_TIME\":\"Int64\",\n",
    "            \"AIR_TIME\":\"Int64\",\n",
    "            \"DISTANCE\":\"Int64\",\n",
    "            \"CARRIER_DELAY\":\"Int64\",\n",
    "            \"WEATHER_DELAY\":\"Int64\",\n",
    "            \"NAS_DELAY\":\"Int64\",\n",
    "            \"SECURITY_DELAY\":\"Int64\",\n",
    "            \"LATE_AIRCRAFT_DELAY\":\"Int64\"\n",
    "           }\n",
    "\n",
    "dataframe = pd.read_csv(FLIGHTS_FILENAME,dtype=mySchema)\n",
    "result = dataframe[[\"FL_DATE\",\"OP_CARRIER\"]].groupby(\"OP_CARRIER\").count()\n",
    "print(result)\n",
    "\n",
    "end_time = time.time()\n",
    "\n",
    "print( \"Runtime = \" + str(end_time - start_time))\n"
   ]
  },
  {
   "cell_type": "markdown",
   "metadata": {
    "id": "preliminary-swimming"
   },
   "source": [
    "* Execution time for sample.csv: **17,89 Seconds** (rounded)\n",
    "* Execution time for complete.csv: **Kernel died, not enough computing power to execute the task locally (even though we ran it on a powerful MacPro M1). Also while using the Colab, we weren't able to finish the computation. We stopped the run after apprx. 10 minutes.**"
   ]
  },
  {
   "cell_type": "markdown",
   "metadata": {
    "id": "thousand-adoption"
   },
   "source": [
    "**Discuss the results you have obtained:**\n",
    "<br>\n",
    "<br>PySpark was able to execute the task much faster than Python (apprx. 2x faster with the \"Sample\" dataset & with the \"Complete\" dataset Pandas was not even able to execute the task). The issue is that Pandas doesn’t scale - with Pandas, processing itself is single threaded and cannot be distributed to different machines. Pandas requires that all of your data fit into the main memory of you local computer. It can neither spill data to disk nor can it distribute data within a cluster of machines. Hence, if a data set grows, you need more RAM and a faster CPU (in terms of single core performance, it doesn’t make good use of multiple CPUs). On the one hand is this a natural limitation of Pandas, however, on the other hand, this feature keeps the entire library simple and easy to use (especially for less extensive datasets).\n",
    "<br>Spark, however, is multi threaded and can make use of all cores of a machine. Spark scales very well with huge amounts of data via multiple machines in a cluster. By breaking down the total amount of work into individual tasks (\"lazy execution model\"), which then can be processed independently (as soon as each tasks input data is available) in parallel, Spark makes very efficient use of the available cluster resources. Therefore, for large datasets with limited numbers of columns, Spark has a much faster execution time than Pandas.\n",
    " "
   ]
  },
  {
   "cell_type": "markdown",
   "metadata": {
    "id": "mFJZGZoY_lVW"
   },
   "source": [
    "_______"
   ]
  },
  {
   "cell_type": "code",
   "execution_count": 12,
   "metadata": {
    "colab": {
     "base_uri": "https://localhost:8080/"
    },
    "id": "LCU47vP3_WXk",
    "outputId": "f7f38e37-73f4-4df4-941d-c618da98011c"
   },
   "outputs": [
    {
     "name": "stdout",
     "output_type": "stream",
     "text": [
      "For the solutions of the problems, the following dataset was used: data-2016.csv\n"
     ]
    }
   ],
   "source": [
    "print(\"For the solutions of the problems, the following dataset was used:\", flightsF) "
   ]
  },
  {
   "cell_type": "markdown",
   "metadata": {
    "id": "-fo5dXwv_v8N"
   },
   "source": [
    "_______________"
   ]
  },
  {
   "cell_type": "markdown",
   "metadata": {
    "id": "unknown-suffering"
   },
   "source": [
    "## Problem 1 [4 points] \n",
    "\n",
    "In this first problem, you should compute a set of statistics on the data.\n"
   ]
  },
  {
   "cell_type": "markdown",
   "metadata": {
    "id": "_1ygfn6UEuHN"
   },
   "source": [
    "### Top-20 airports with more flights (include the name of the airport)"
   ]
  },
  {
   "cell_type": "code",
   "execution_count": 13,
   "metadata": {
    "colab": {
     "base_uri": "https://localhost:8080/"
    },
    "id": "temporal-lyric",
    "outputId": "8248dff0-475d-4a94-d2d1-35dc02600fa7"
   },
   "outputs": [
    {
     "name": "stdout",
     "output_type": "stream",
     "text": [
      "+------+--------------------+-------------+\n",
      "|ORIGIN|                name|Total_Flights|\n",
      "+------+--------------------+-------------+\n",
      "|   ATL|Hartsfield Jackso...|       768627|\n",
      "|   ORD|Chicago O'Hare In...|       487971|\n",
      "|   DEN|Denver Internatio...|       452361|\n",
      "|   LAX|Los Angeles Inter...|       425955|\n",
      "|   DFW|Dallas Fort Worth...|       392080|\n",
      "|   SFO|San Francisco Int...|       344756|\n",
      "|   PHX|Phoenix Sky Harbo...|       318290|\n",
      "|   LAS|McCarran Internat...|       301376|\n",
      "|   IAH|George Bush Inter...|       274184|\n",
      "|   SEA|Seattle Tacoma In...|       265252|\n",
      "|   MSP|Minneapolis-St Pa...|       258382|\n",
      "|   MCO|Orlando Internati...|       251444|\n",
      "|   DTW|Detroit Metropoli...|       248086|\n",
      "|   BOS|General Edward La...|       242513|\n",
      "|   EWR|Newark Liberty In...|       231728|\n",
      "|   CLT|Charlotte Douglas...|       221363|\n",
      "|   SLC|Salt Lake City In...|       217673|\n",
      "|   JFK|John F Kennedy In...|       195477|\n",
      "|   LGA|  La Guardia Airport|       193155|\n",
      "|   BWI|Baltimore/Washing...|       192429|\n",
      "+------+--------------------+-------------+\n",
      "\n"
     ]
    }
   ],
   "source": [
    "# TO COMPLETE\n",
    "\n",
    "originAirports = spark.sql(\"\"\"SELECT ORIGIN, count(*) as departures \n",
    "                                    FROM flights_new \n",
    "                                    GROUP BY ORIGIN \n",
    "                                    ORDER BY departures DESC\n",
    "                           \"\"\")\n",
    "\n",
    "destAirports = spark.sql(\"\"\"SELECT DEST, count(*) as arrivals \n",
    "                                    FROM flights_new \n",
    "                                    GROUP BY DEST \n",
    "                                    ORDER BY arrivals DESC\n",
    "                         \"\"\")\n",
    "\n",
    "MostFlightsByAirports = spark.sql(\"\"\"with destination as (SELECT DEST, count(*) as arrivals \n",
    "                                            from flights_new GROUP BY DEST ORDER BY arrivals DESC),\n",
    "                                            origin as (SELECT ORIGIN, count(*) as departures \n",
    "                                            from flights_new GROUP BY ORIGIN ORDER BY departures DESC)\n",
    "                                            SELECT ORIGIN, (destination.arrivals+origin.departures) as Total_Flights\n",
    "                                            from origin, destination \n",
    "                                            where ORIGIN = DEST\n",
    "                                            order by (origin.departures + destination.arrivals) DESC\n",
    "                                            limit 20\"\"\").createOrReplaceTempView(\"most_flights_airport\")\n",
    "\n",
    "\n",
    "top20byairport = spark.sql(\"\"\"SELECT ORIGIN, name, Total_Flights \n",
    "                                     FROM (SELECT * FROM most_flights_airport LEFT join airports on most_flights_airport.ORIGIN = airports.iata_code)\"\"\")\n",
    "top20byairport.show()\n"
   ]
  },
  {
   "cell_type": "markdown",
   "metadata": {
    "id": "growing-pension"
   },
   "source": [
    "### Top-20 days with more flights"
   ]
  },
  {
   "cell_type": "code",
   "execution_count": 14,
   "metadata": {
    "colab": {
     "base_uri": "https://localhost:8080/"
    },
    "id": "organizational-light",
    "outputId": "2401ae0f-8a47-41ad-9d4f-2d02c3eb9584"
   },
   "outputs": [
    {
     "name": "stdout",
     "output_type": "stream",
     "text": [
      "+----------+-------------+\n",
      "|   FL_DATE|flightsperday|\n",
      "+----------+-------------+\n",
      "|2016-11-27|        17065|\n",
      "|2016-07-01|        17050|\n",
      "|2016-08-05|        17007|\n",
      "|2016-07-29|        17004|\n",
      "|2016-07-15|        16998|\n",
      "|2016-07-22|        16992|\n",
      "|2016-08-01|        16978|\n",
      "|2016-07-25|        16976|\n",
      "|2016-07-28|        16967|\n",
      "|2016-06-30|        16963|\n",
      "|2016-08-04|        16961|\n",
      "|2016-07-11|        16961|\n",
      "|2016-07-21|        16960|\n",
      "|2016-07-18|        16950|\n",
      "|2016-07-14|        16941|\n",
      "|2016-06-24|        16901|\n",
      "|2016-07-08|        16891|\n",
      "|2016-06-17|        16888|\n",
      "|2016-07-27|        16888|\n",
      "|2016-07-13|        16884|\n",
      "+----------+-------------+\n",
      "\n"
     ]
    }
   ],
   "source": [
    "# TO COMPLETE\n",
    "flightspday = spark.sql(\"\"\"SELECT FL_DATE, count(*) as flightsperday\n",
    "                                    from flights_new \n",
    "                                    GROUP BY FL_DATE \n",
    "                                    ORDER BY flightsperday DESC \n",
    "                                    limit 20\n",
    "                        \"\"\")\n",
    "flightspday.show()"
   ]
  },
  {
   "cell_type": "markdown",
   "metadata": {
    "id": "assured-technician"
   },
   "source": [
    "### Periods with more flights: morning (00:00-11:59, midday 12:00-17:59, evening 18:00-23:59)"
   ]
  },
  {
   "cell_type": "code",
   "execution_count": 15,
   "metadata": {
    "colab": {
     "base_uri": "https://localhost:8080/"
    },
    "id": "bored-northeast",
    "outputId": "250a01ad-745a-4138-b77a-51be7f540535"
   },
   "outputs": [
    {
     "name": "stdout",
     "output_type": "stream",
     "text": [
      "+-------------+-------------------------+\n",
      "|flightperiods|number_flights_per_period|\n",
      "+-------------+-------------------------+\n",
      "|      Morning|                  2304443|\n",
      "|       Midday|                  1968802|\n",
      "|      Evening|                  1344413|\n",
      "+-------------+-------------------------+\n",
      "\n"
     ]
    }
   ],
   "source": [
    "flightsperperiod = spark.sql(\"\"\"SELECT flightperiods, COUNT(flightperiods) as number_flights_per_period\n",
    "                                     FROM (SELECT CASE WHEN hour >= 0 AND hour < 12  THEN 'Morning'\n",
    "                                                       WHEN hour >= 12 AND hour < 18 THEN \"Midday\"\n",
    "                                                       ELSE 'Evening'\n",
    "                                                       END AS flightperiods\n",
    "                                            FROM (SELECT LEFT(DEP_TIME, 2) as hour\n",
    "                                                  FROM flights_new)\n",
    "                                           )\n",
    "                                            GROUP BY flightperiods\n",
    "                                            ORDER BY number_flights_per_period DESC       \n",
    "                              \"\"\")\n",
    "\n",
    "\n",
    "flightsperperiod.show()"
   ]
  },
  {
   "cell_type": "markdown",
   "metadata": {
    "id": "oriented-spokesman"
   },
   "source": [
    "### Top-20 airports with longer delays"
   ]
  },
  {
   "cell_type": "code",
   "execution_count": 16,
   "metadata": {
    "colab": {
     "base_uri": "https://localhost:8080/"
    },
    "id": "dress-pride",
    "outputId": "2b850b69-d8fe-4516-9397-3223111b4915",
    "scrolled": true
   },
   "outputs": [
    {
     "name": "stdout",
     "output_type": "stream",
     "text": [
      "+------+---------------+\n",
      "|ORIGIN|delayperairport|\n",
      "+------+---------------+\n",
      "|   ENV|          157.0|\n",
      "|   PPG|           53.0|\n",
      "|   BFF|           40.0|\n",
      "|   SPN|           24.0|\n",
      "|   MMH|           23.0|\n",
      "|   GCK|           21.0|\n",
      "|   MVY|           21.0|\n",
      "|   OTH|           20.0|\n",
      "|   CMX|           17.0|\n",
      "|   SAF|           17.0|\n",
      "|   BPT|           17.0|\n",
      "|   MQT|           16.0|\n",
      "|   CIU|           15.0|\n",
      "|   ACK|           15.0|\n",
      "|   GUC|           15.0|\n",
      "|   CHO|           14.0|\n",
      "|   EWR|           14.0|\n",
      "|   MEI|           14.0|\n",
      "|   GGG|           14.0|\n",
      "|   LGA|           13.0|\n",
      "+------+---------------+\n",
      "\n"
     ]
    }
   ],
   "source": [
    "delay_per_airport = spark.sql(\"\"\"SELECT ORIGIN, round(mean(DEP_DELAY)) as delayperairport\n",
    "                                        FROM flights \n",
    "                                        GROUP BY ORIGIN \n",
    "                                        ORDER BY delayperairport DESC \n",
    "                                        limit 20\n",
    "                              \"\"\")\n",
    "delay_per_airport.show()\n"
   ]
  },
  {
   "cell_type": "markdown",
   "metadata": {
    "id": "rolled-desperate"
   },
   "source": [
    "### Top 10 carriers with longer delays"
   ]
  },
  {
   "cell_type": "code",
   "execution_count": 17,
   "metadata": {
    "colab": {
     "base_uri": "https://localhost:8080/"
    },
    "id": "dependent-absence",
    "outputId": "e1b2546e-9474-4016-b340-01af327c5bd4"
   },
   "outputs": [
    {
     "name": "stdout",
     "output_type": "stream",
     "text": [
      "+----------+---------------+\n",
      "|OP_CARRIER|delaypercarrier|\n",
      "+----------+---------------+\n",
      "|        EV|           29.0|\n",
      "|        DL|           28.0|\n",
      "|        HA|           25.0|\n",
      "|        OO|           23.0|\n",
      "|        AA|           21.0|\n",
      "|        UA|           20.0|\n",
      "|        B6|           20.0|\n",
      "|        F9|           17.0|\n",
      "|        AS|           14.0|\n",
      "|        WN|           14.0|\n",
      "+----------+---------------+\n",
      "\n"
     ]
    }
   ],
   "source": [
    "delay_per_carrier = spark.sql(\"\"\"SELECT OP_CARRIER, round(mean(CARRIER_DELAY)) as delaypercarrier\n",
    "                                            FROM flights_new \n",
    "                                            GROUP BY OP_CARRIER \n",
    "                                            ORDER BY delaypercarrier DESC \n",
    "                                            limit 10\n",
    "                              \"\"\")\n",
    "delay_per_carrier.show()"
   ]
  },
  {
   "cell_type": "markdown",
   "metadata": {
    "id": "medieval-vegetable"
   },
   "source": [
    "### Longer delays by period: morning (00:00-11:59, midday 12:00-17:59, evening 18:00-23:59)\n"
   ]
  },
  {
   "cell_type": "code",
   "execution_count": 18,
   "metadata": {
    "colab": {
     "base_uri": "https://localhost:8080/"
    },
    "id": "diverse-lodging",
    "outputId": "76cc8387-405c-4873-dbf2-6494ed9d4774"
   },
   "outputs": [
    {
     "name": "stdout",
     "output_type": "stream",
     "text": [
      "+-------+---------+\n",
      "|periods|avg_delay|\n",
      "+-------+---------+\n",
      "|Evening|     17.0|\n",
      "| Midday|     14.0|\n",
      "|Morning|      8.0|\n",
      "+-------+---------+\n",
      "\n"
     ]
    }
   ],
   "source": [
    "delay_per_period = spark.sql(\"\"\"SELECT periods, ROUND(MEAN(depdelay_adj)) as avg_delay\n",
    "                                     FROM (SELECT CASE WHEN hour >= 0 AND hour < 12  THEN 'Morning'\n",
    "                                                       WHEN hour >= 12 AND hour < 18 THEN \"Midday\"\n",
    "                                                       ELSE 'Evening'\n",
    "                                                       END AS periods,\n",
    "                                                       depdelay_adj     \n",
    "                                            FROM (SELECT CASE WHEN DEP_DELAY < 0 THEN 0\n",
    "                                                    ELSE DEP_DELAY\n",
    "                                                    END AS depdelay_adj,\n",
    "                                                    LEFT(CRS_DEP_TIME, 2) as hour\n",
    "                                                      FROM flights)\n",
    "                                                  \n",
    "                                          )\n",
    "                                GROUP BY periods\n",
    "                                ORDER BY avg_delay DESC\n",
    "                              \"\"\")\n",
    "\n",
    "\n",
    "delay_per_period.show()                                    \n",
    "                            "
   ]
  },
  {
   "cell_type": "markdown",
   "metadata": {
    "id": "contemporary-conference"
   },
   "source": [
    "## Problem 2 [4 points] \n",
    "\n",
    "Assume you want to create a web site to help travellers get information about flight delays. The web site would allow a user to find out information about delays for the flight she want to take. \n",
    "The information about delays should include at least 3 statistics - suggestion: the average delay in the same route of the same carrier in the last 7 days, 30 days, 365 days, similar but considering only flights in the same week day, similar but considering flights in the same week day, but excluding holidays, etc.\n",
    "\n",
    "To support this web site, it would be necessary to build one or more indices that would be used to answer the query of the user.\n",
    "\n",
    "Write the code to build these indices - for each index, print 5 lines."
   ]
  },
  {
   "cell_type": "code",
   "execution_count": 34,
   "metadata": {
    "colab": {
     "base_uri": "https://localhost:8080/"
    },
    "id": "relevant-conclusion",
    "outputId": "be8daa8f-b8ee-4e1d-aaab-d89fb9ac8d8d"
   },
   "outputs": [
    {
     "name": "stdout",
     "output_type": "stream",
     "text": [
      "Please use the year of this dataset for your input:\n",
      "data-2016.csv\n",
      "\n",
      "What day is your flight? (form: yyyy-mm-dd)2016-07-15\n",
      "Where are you departing from? Please enter accronym (form: XXX)SFO\n",
      "Where are you flying to? Please enter accronym (form: XXX)SMF\n",
      "\n",
      "Print index:\n",
      "+----------+------+----+-----+--------------+\n",
      "|   FL_DATE|ORIGIN|DEST|DELAY|       Holiday|\n",
      "+----------+------+----+-----+--------------+\n",
      "|2016-01-01|   DTW| LAX|    0|New Year's Day|\n",
      "|2016-01-01|   ATL| GRR|    0|New Year's Day|\n",
      "|2016-01-01|   LAX| ATL|    0|New Year's Day|\n",
      "|2016-01-01|   SLC| ATL|    0|New Year's Day|\n",
      "|2016-01-01|   BZN| MSP|  124|New Year's Day|\n",
      "+----------+------+----+-----+--------------+\n",
      "only showing top 5 rows\n",
      "\n",
      "Your flight from SFO to SMF on 2016-07-15 had the following delay statistics:\n",
      "\n",
      "In the past 7 days:\n",
      "10.428571428571429  minutes on average\n",
      "\n",
      "In the past 30 days:\n",
      "10.841726618705035  minutes on average\n",
      "\n",
      "In the past 365 days:\n",
      "16.197791164658636  minutes on average\n",
      "\n",
      "On this weekday over the past:\n",
      "13.499737265942404  minutes on average\n",
      "\n",
      "On this weekday over the past if it was not a holiday:\n",
      "13.499737265942404  minutes on average\n",
      "\n",
      "Runtime = 215.9249346256256\n"
     ]
    }
   ],
   "source": [
    "### INPUTS\n",
    "from datetime import datetime\n",
    "from pyspark.sql import functions as f\n",
    "\n",
    "start_time = time.time()\n",
    "\n",
    "date_format = \"%Y-%m-%d\"\n",
    "print(\"Please use the year of this dataset for your input:\")\n",
    "print(flightsF)\n",
    "Flightdate = input(\"\\nWhat day is your flight? (form: yyyy-mm-dd)\" ) #e.g. 2016-07-15\n",
    "Departure = input(\"Where are you departing from? Please enter accronym (form: XXX)\" ) #e.g. SFO\n",
    "Destination = input(\"Where are you flying to? Please enter accronym (form: XXX)\" ) #e.g. SMF\n",
    " \n",
    "#----------index--------------\n",
    "Flights_all = spark.sql(\"\"\"SELECT FL_DATE, ORIGIN, DEST, ARR_DELAY FROM flights\"\"\")\n",
    "Flights_all = Flights_all.withColumn('DELAY', f.when(f.col('ARR_DELAY') <= 0, \"0\").otherwise(f.col('ARR_DELAY')))\n",
    "Flights_all = Flights_all.join(holidaysDF, Flights_all.FL_DATE==holidaysDF.Date, how = 'left')\n",
    "Flights_all = Flights_all.fillna(value='NOHOHOliday',subset=['Holiday'])\n",
    "Flights_all = Flights_all.drop('Date','WeekDay', 'Month', 'Day', 'Year','ARR_DELAY')\n",
    "\n",
    "print('\\nPrint index:')\n",
    "Flights_all.show(5)\n",
    "\n",
    "Chosen_Flight = pd.to_datetime(Flightdate)\n",
    "Chosen_Flight = Chosen_Flight.strftime(date_format)\n",
    "\n",
    "\n",
    "\n",
    "\n",
    "'''Statistic 1: Past Days 7,30 & 365:'''\n",
    "\n",
    "#--------- 7 Days: ---------\n",
    "day_7 = pd.to_datetime(Flightdate) + pd.DateOffset(days=-6)\n",
    "day_7 = day_7.strftime(date_format)\n",
    "\n",
    "days_7_selected = Flights_all.where((Flights_all.ORIGIN == Departure) & (Flights_all.DEST == Destination) & (Flights_all.FL_DATE.between(day_7, Flightdate)))\n",
    "delay_average_7 = days_7_selected.groupBy().agg(f.sum(\"DELAY\")).collect()[0][0] / days_7_selected.count()\n",
    "\n",
    "\n",
    "  #--------- 30 Days: ---------\n",
    "day_30 = pd.to_datetime(Flightdate) + pd.DateOffset(days=-29)\n",
    "day_30 = day_30.strftime(date_format)\n",
    "\n",
    "days_30_selected = Flights_all.where((Flights_all.ORIGIN == Departure) & (Flights_all.DEST == Destination) & (Flights_all.FL_DATE.between(day_30, Flightdate)))\n",
    "delay_average_30 = days_30_selected.groupBy().agg(f.sum(\"DELAY\")).collect()[0][0] / days_30_selected.count()\n",
    "\n",
    "\n",
    "\n",
    "#--------- 365 Days: ---------\n",
    "day_365 = pd.to_datetime(Flightdate) + pd.DateOffset(days=-364)\n",
    "day_365 = day_365.strftime(date_format)\n",
    "\n",
    "days_365_selected = Flights_all.where((Flights_all.ORIGIN == Departure) & (Flights_all.DEST == Destination) & (Flights_all.FL_DATE.between(day_365, Flightdate)))\n",
    "delay_average_365 = days_365_selected.groupBy().agg(f.sum(\"DELAY\")).collect()[0][0] / days_365_selected.count()\n",
    "\n",
    "\n",
    "\n",
    "\n",
    "'''Statistic 2: Same Weekday with holidays'''\n",
    "\n",
    "#Timeframe\n",
    "earliest = Flights_all.select(min(\"FL_DATE\"))\n",
    "earliest = earliest.collect()[0][0].strftime(date_format)\n",
    "earliestflight = datetime.strptime(earliest, date_format)\n",
    "delta = datetime.strptime(Chosen_Flight, date_format) - earliestflight\n",
    "\n",
    "#Weeks \n",
    "Weeks = (delta.days+1) // 7\n",
    "start = (Weeks-1)*7\n",
    "\n",
    "#Same Weekday\n",
    "same_weekday = []\n",
    "\n",
    "for i in range (0,Weeks+1): \n",
    "        date = pd.to_datetime(Flightdate) + pd.DateOffset(days = - start +i*7)\n",
    "        date = date.strftime('%Y-%m-%d')\n",
    "        same_weekday.append(date)\n",
    "\n",
    "DF_weekday = Flights_all.filter(Flights_all.FL_DATE.isin(same_weekday))\n",
    "Weekday_average = DF_weekday.groupBy().agg(f.sum(\"DELAY\")).collect()[0][0] / DF_weekday.count()\n",
    "\n",
    "\n",
    "\n",
    "'''Statistic 3: Same Weekday without holidays'''\n",
    "    \n",
    "DF_weekday_wo = DF_weekday.where(DF_weekday.Holiday == \"NOHOHOliday\")\n",
    "Weekday_wo_Average = DF_weekday_wo.groupBy().agg(f.sum(\"DELAY\")).collect()[0][0] / DF_weekday_wo.count()\n",
    "\n",
    "\n",
    "#-------------------------------------------------------------------------------------------------------------------\n",
    "print('Your flight from ' + Departure + ' to ' + Destination + ' on ' + Flightdate + ' had the following delay statistics:')\n",
    "print('\\nIn the past 7 days:')\n",
    "print(delay_average_7,' minutes on average')\n",
    "print('\\nIn the past 30 days:')\n",
    "print(delay_average_30,' minutes on average')\n",
    "print('\\nIn the past 365 days:')\n",
    "print(delay_average_365,' minutes on average')\n",
    "print('\\nOn this weekday over the past:')\n",
    "print(Weekday_average,' minutes on average')\n",
    "print('\\nOn this weekday over the past if it was not a holiday:')\n",
    "print(Weekday_wo_Average,' minutes on average')\n",
    "\n",
    "#example for entry: Date: 2016-07-15; Departure: SFO; Destination: SMF\n",
    "\n",
    "end_time = time.time()\n",
    "\n",
    "print( \"\\nRuntime = \" + str(end_time - start_time))"
   ]
  },
  {
   "cell_type": "markdown",
   "metadata": {
    "id": "considered-turtle"
   },
   "source": [
    "#### Discussion\n",
    "\n",
    "**Explain your code and discuss results:**\n",
    "\n",
    "- **Index**: To create a more userfriendly dataset, an index is created, selecting the important information needed to calculate the delays and being combined with the holiday dataset for further analysis. The Website is working with delays on arrival time as it is especially interesting for customers/passengers to know their time of arrival at their destination in order to for example catch connection flights. Lastly the Delays <0 were counted as on time (=0) (See an extract of Index below). \n",
    "As the runtime is already long, it would only be even further increased if the whole dataset would be used for processing. \n",
    "One could also build a query, selecting an index for each input-date including The past 365 days plus the same weekdays over the whole set. This would likely decrease the dataset even further shortening the runtime. \n",
    "\n",
    "- **Code**: The processing code uses the input (Date, Destination, Departure) to walk through the dataset and compare the same flight routes, calculating the average delay for a passengers flight: \n",
    "\n",
    "    - for the past seven days,\n",
    "    - for the past 30 days,\n",
    "    - for the past 365 days,\n",
    "    - for the entire dataset on the same weekday,\n",
    "    - for the entire dataset on the same weekday if it's not a holiday.\n",
    "   \n",
    "   Therefore, the passenger receives vast information about potential delay  times of the flight beforehand. \n",
    "\n",
    "- **Runtime**: Lastly, the runtime is calculated to compare different indizes. As discussed above, one could also build a index for each request, decreasing the dataset. This can be tested for efficiency comparing the runtimes.\n",
    "\n",
    "\n"
   ]
  },
  {
   "cell_type": "markdown",
   "metadata": {
    "id": "therapeutic-clark"
   },
   "source": [
    "## Problem 3 [4 points]\n",
    "\n",
    "Transform the flights data to include a class, depending on the delay - SHORT, LONG - depending on whether the departure delay was less than 10 minutes, or greater or equal to 10 minutes.\n",
    "\n",
    "Build and evaluate a classification model for the data.\n"
   ]
  },
  {
   "cell_type": "code",
   "execution_count": 20,
   "metadata": {
    "colab": {
     "base_uri": "https://localhost:8080/",
     "height": 164
    },
    "id": "ruled-advice",
    "outputId": "03bf744c-0f3c-4453-af5b-ced32efa2816"
   },
   "outputs": [
    {
     "data": {
      "text/html": [
       "<div>\n",
       "<style scoped>\n",
       "    .dataframe tbody tr th:only-of-type {\n",
       "        vertical-align: middle;\n",
       "    }\n",
       "\n",
       "    .dataframe tbody tr th {\n",
       "        vertical-align: top;\n",
       "    }\n",
       "\n",
       "    .dataframe thead th {\n",
       "        text-align: right;\n",
       "    }\n",
       "</style>\n",
       "<table border=\"1\" class=\"dataframe\">\n",
       "  <thead>\n",
       "    <tr style=\"text-align: right;\">\n",
       "      <th></th>\n",
       "      <th>OP_CARRIER_FL_NUM</th>\n",
       "      <th>TAXI_OUT</th>\n",
       "      <th>TAXI_IN</th>\n",
       "      <th>CANCELLED</th>\n",
       "      <th>DIVERTED</th>\n",
       "      <th>CRS_ELAPSED_TIME</th>\n",
       "      <th>ACTUAL_ELAPSED_TIME</th>\n",
       "      <th>AIR_TIME</th>\n",
       "      <th>DISTANCE</th>\n",
       "      <th>CARRIER_DELAY</th>\n",
       "      <th>WEATHER_DELAY</th>\n",
       "      <th>NAS_DELAY</th>\n",
       "      <th>SECURITY_DELAY</th>\n",
       "      <th>LATE_AIRCRAFT_DELAY</th>\n",
       "      <th>year</th>\n",
       "      <th>hour</th>\n",
       "      <th>min</th>\n",
       "      <th>holiday_yes</th>\n",
       "      <th>DELAY_CLUSTER</th>\n",
       "    </tr>\n",
       "  </thead>\n",
       "  <tbody>\n",
       "    <tr>\n",
       "      <th>0</th>\n",
       "      <td>1248</td>\n",
       "      <td>23</td>\n",
       "      <td>13</td>\n",
       "      <td>0</td>\n",
       "      <td>0</td>\n",
       "      <td>309</td>\n",
       "      <td>285</td>\n",
       "      <td>249</td>\n",
       "      <td>1979</td>\n",
       "      <td>0</td>\n",
       "      <td>0</td>\n",
       "      <td>0</td>\n",
       "      <td>0</td>\n",
       "      <td>0</td>\n",
       "      <td>0</td>\n",
       "      <td>19</td>\n",
       "      <td>35</td>\n",
       "      <td>1</td>\n",
       "      <td>0</td>\n",
       "    </tr>\n",
       "    <tr>\n",
       "      <th>1</th>\n",
       "      <td>1251</td>\n",
       "      <td>13</td>\n",
       "      <td>4</td>\n",
       "      <td>0</td>\n",
       "      <td>0</td>\n",
       "      <td>116</td>\n",
       "      <td>109</td>\n",
       "      <td>92</td>\n",
       "      <td>640</td>\n",
       "      <td>0</td>\n",
       "      <td>0</td>\n",
       "      <td>0</td>\n",
       "      <td>0</td>\n",
       "      <td>0</td>\n",
       "      <td>0</td>\n",
       "      <td>21</td>\n",
       "      <td>30</td>\n",
       "      <td>1</td>\n",
       "      <td>0</td>\n",
       "    </tr>\n",
       "    <tr>\n",
       "      <th>2</th>\n",
       "      <td>1254</td>\n",
       "      <td>19</td>\n",
       "      <td>5</td>\n",
       "      <td>0</td>\n",
       "      <td>0</td>\n",
       "      <td>245</td>\n",
       "      <td>231</td>\n",
       "      <td>207</td>\n",
       "      <td>1947</td>\n",
       "      <td>0</td>\n",
       "      <td>0</td>\n",
       "      <td>0</td>\n",
       "      <td>0</td>\n",
       "      <td>0</td>\n",
       "      <td>0</td>\n",
       "      <td>22</td>\n",
       "      <td>56</td>\n",
       "      <td>1</td>\n",
       "      <td>0</td>\n",
       "    </tr>\n",
       "  </tbody>\n",
       "</table>\n",
       "</div>"
      ],
      "text/plain": [
       "   OP_CARRIER_FL_NUM  TAXI_OUT  TAXI_IN  ...  min  holiday_yes  DELAY_CLUSTER\n",
       "0               1248        23       13  ...   35            1              0\n",
       "1               1251        13        4  ...   30            1              0\n",
       "2               1254        19        5  ...   56            1              0\n",
       "\n",
       "[3 rows x 19 columns]"
      ]
     },
     "execution_count": 20,
     "metadata": {},
     "output_type": "execute_result"
    }
   ],
   "source": [
    "from pyspark.sql import functions as f\n",
    "from pyspark.sql.functions import split\n",
    "import seaborn as sns\n",
    "import numpy as np\n",
    "\n",
    "# Preparing Dataset: \n",
    "#--------Selecting flights dataset and combining it with holidays information\n",
    "Flights_new = spark.sql(\"\"\"SELECT * FROM flights f LEFT JOIN holidays h ON f.FL_DATE = h.Date\"\"\").fillna(value = \"NOHOHOliday\",subset=[\"Holiday\"])\n",
    "\n",
    "#--------Editing Data: Years, Hours (Arrival), Minutes (Arrival), Holidays\n",
    "Flights_new = Flights_new.withColumn(\"DATE\",to_timestamp(\"FL_DATE\"))\\\n",
    "            .withColumn(\"year\", to_date(col(\"DATE\"), \"YYYY\").cast(\"integer\"))\\\n",
    "            .withColumn(\"hour\", split(col(\"DEP_TIME\"), \":\").getItem(0).cast(\"integer\"))\\\n",
    "            .withColumn(\"min\", split(col(\"DEP_TIME\"), \":\").getItem(1).cast(\"integer\"))\\\n",
    "            .withColumn(\"holiday_yes\", when(col(\"Holiday\") != \"NOHOHOliday\", 1).otherwise(0).cast(\"integer\"))\n",
    "\n",
    "#--------Delay Clustering into Short (<=10) and LONG (>10)\n",
    "Flights_new = Flights_new.withColumn(\"DELAY_CLUSTER\",when(Flights_new.DEP_DELAY < 10, 0).otherwise(1))\n",
    "Flights_new = Flights_new.filter(Flights_new.DEP_DELAY.isNotNull()).na.fill(0)\n",
    "\n",
    "#--------Clean Dataset dropping Strings\n",
    "Flights_new = Flights_new.drop('FL_DATE','Date','Weekday', 'Month', 'Day','ARR_DELAY','OP_CARRIER', 'ORIGIN', 'DEST', 'CRS_DEP_TIME', 'DEP_TIME', 'WHEELS_OFF', 'WHEELS_ON', 'CRS_ARR_TIME', 'CANCELLATION_CODE', 'Holiday', 'DELAY','DEP_DELAY','DATE','ARR_TIME')         \n",
    "\n",
    "#--------Create Pandas Dataframe for further analysis\n",
    "Clustered_DF = Flights_new.toPandas()\n",
    "\n",
    "Clustered_DF.head(3)"
   ]
  },
  {
   "cell_type": "code",
   "execution_count": 21,
   "metadata": {
    "colab": {
     "base_uri": "https://localhost:8080/",
     "height": 612
    },
    "id": "u1tjJM1zsxTn",
    "outputId": "47319118-d729-48e4-9fd5-c0f546c1a812"
   },
   "outputs": [
    {
     "name": "stderr",
     "output_type": "stream",
     "text": [
      "/usr/local/lib/python3.7/dist-packages/sklearn/linear_model/_logistic.py:818: ConvergenceWarning: lbfgs failed to converge (status=1):\n",
      "STOP: TOTAL NO. of ITERATIONS REACHED LIMIT.\n",
      "\n",
      "Increase the number of iterations (max_iter) or scale the data as shown in:\n",
      "    https://scikit-learn.org/stable/modules/preprocessing.html\n",
      "Please also refer to the documentation for alternative solver options:\n",
      "    https://scikit-learn.org/stable/modules/linear_model.html#logistic-regression\n",
      "  extra_warning_msg=_LOGISTIC_SOLVER_CONVERGENCE_MSG,\n"
     ]
    },
    {
     "name": "stdout",
     "output_type": "stream",
     "text": [
      "Precision: 0.9624817525571502\n",
      "Recall: 0.6603567077158178\n",
      "Accuracy: 0.9235454801444095\n"
     ]
    },
    {
     "data": {
      "image/png": "[encoded data removed]",
      "text/plain": [
       "<Figure size 576x396 with 2 Axes>"
      ]
     },
     "metadata": {},
     "output_type": "display_data"
    }
   ],
   "source": [
    "from sklearn.model_selection import train_test_split\n",
    "from sklearn.linear_model import LogisticRegression\n",
    "from sklearn import metrics\n",
    "\n",
    "X = Clustered_DF.drop(['DELAY_CLUSTER'], axis = 1)  # Features\n",
    "y = Clustered_DF['DELAY_CLUSTER']                   # Target variable\n",
    "\n",
    "#Split into test and training set:\n",
    "X_train,X_test,y_train,y_test=train_test_split(X,y,test_size=0.25,random_state=2)\n",
    "\n",
    "#Initiating Logistic regression and fitting the model:\n",
    "logreg = LogisticRegression()\n",
    "logreg.fit(X_train,y_train)\n",
    "y_pred=logreg.predict(X_test)\n",
    "\n",
    "\n",
    "#Create Matrix:\n",
    "#-----------create base\n",
    "cnf_matrix = metrics.confusion_matrix(y_test, y_pred)\n",
    "class_names=[0,1]        \n",
    "fig, ax = plt.subplots()\n",
    "tick_marks = np.arange(len(class_names))\n",
    "plt.xticks(tick_marks, class_names)\n",
    "plt.yticks(tick_marks, class_names)\n",
    "\n",
    "#------------create heatmap\n",
    "sns.heatmap(pd.DataFrame(cnf_matrix), annot=True, cmap=\"YlGnBu\" ,fmt='g')\n",
    "ax.xaxis.set_label_position(\"top\")\n",
    "plt.tight_layout()\n",
    "plt.title('Confusion matrix', y=1.1)\n",
    "plt.ylabel('Actual label')\n",
    "plt.xlabel('Predicted label')\n",
    "\n",
    "#------------Print Metrics\n",
    "print(\"Precision:\",metrics.precision_score(y_test, y_pred))\n",
    "print(\"Recall:\",metrics.recall_score(y_test, y_pred))\n",
    "print(\"Accuracy:\",metrics.accuracy_score(y_test, y_pred))"
   ]
  },
  {
   "cell_type": "markdown",
   "metadata": {
    "id": "initial-insight"
   },
   "source": [
    "#### Discussion\n",
    "\n",
    "**Explain your code and discuss results**\n",
    "\n",
    "**CODE:**\n",
    "- Data Preparation: In order to build a classification analysis, the data needs to first be structured and adapted. Therefore, after selecting all data from the flights dataset, it was combined with holidays and empty fields of the holiday column filled. Secondly, the data was further prepared, preparing subsets of the data by for example converting them from a timestamp format to an integer or splitting departure time into minutes and hours. Next, the main cluster was introduced by creating a column differentiating between SHORT (<10 min) and LONG (>= 10 min) Delays. Lastly, Columns that included Strings (e.g. Weekday) or were including unrelated information (e.g. Arrival Delay). After that the data needed to be transformed into a Pandas Dataframe. \n",
    "\n",
    "- Classification: The analyzed columns are the \"clustered delays\", therefore, the remaining data is used as features. The data is split in a tet and train set and then processed with a logistic regression to fit the model. To visualize this information, a confusion matrix is plotted and the precision, recall and accuracy are calculated. \n",
    "\n",
    "\n",
    "**DISCUSSION**\n",
    "\n",
    "The Precision metric describes how precise/accurate a model is, calculating out of those predicted positive, how many of them are actual positive. A precision of around 96% (for the sample dataset) therefore shows, that 96 of 100 cases were predictet correctly. The model seems to work precisely (to 96%) in predicting when a delay will be long and only has a 4% Chance of detecting a delay as long when its actually short (False positive). The Recall, on the other hand, describes if a delay will be classified as short even though it is actually long (false negative). Here, the model is not as precise (69.7%) and therefore could potentially anger passengers. In Summary, the models Accuracy is 91% classifying delays correctly. This could be further imporved by taking other features into account such as the airports, the difference between wheels-in and departure, or other strings. Strings like the Airports would need to be encoded using dummy_variables. "
   ]
  },
  {
   "cell_type": "markdown",
   "metadata": {
    "id": "prime-monster"
   },
   "source": [
    "## Problem 4 [4 points]\n",
    "\n",
    "Consider we want to cluster airports depending on their properties, such as average number of flights per day, delays, cancellations, etc.\n",
    "\n",
    "Measure the quality of your clustering result."
   ]
  },
  {
   "cell_type": "code",
   "execution_count": 22,
   "metadata": {
    "id": "u2i0Tm41N87U"
   },
   "outputs": [],
   "source": [
    "# Import missing libraries to perform the cluster analysis of the properties of the airports  \n",
    "\n",
    "from sklearn.cluster import KMeans \n",
    "import sklearn.metrics as sm\n",
    "import matplotlib.pyplot as plt\n",
    "from mpl_toolkits import mplot3d\n",
    "import matplotlib.pyplot as plt\n",
    "import pandas as pd\n",
    "import os\n",
    "from pyspark.sql import SparkSession\n",
    "from pyspark.ml.clustering import KMeans\n",
    "from pyspark.sql.functions import *\n",
    "from pyspark.sql.types import *\n",
    "from pyspark.ml.linalg import Vectors\n",
    "from pyspark.ml.evaluation import *\n",
    "from pyspark.ml.feature import *\n",
    "from sklearn.preprocessing import StandardScaler\n",
    "from pyspark.ml.feature import StandardScaler\n",
    "\n",
    "# Ignore DeprecationWarning\n",
    "import warnings\n",
    "warnings.filterwarnings(\"ignore\")                           \n",
    "\n",
    "dataframe = pd.read_csv(FLIGHTS_FILENAME,dtype=mySchema)"
   ]
  },
  {
   "cell_type": "code",
   "execution_count": 23,
   "metadata": {
    "colab": {
     "base_uri": "https://localhost:8080/"
    },
    "id": "olSWIjEDODY2",
    "outputId": "e8f0f9c1-c868-4e11-f9b8-2b54d23ddd27"
   },
   "outputs": [
    {
     "name": "stdout",
     "output_type": "stream",
     "text": [
      "+--------------------+---------+--------------+\n",
      "|number_daily_flights|avg_delay|perc_cancelled|\n",
      "+--------------------+---------+--------------+\n",
      "|                 6.0|     10.0|           2.0|\n",
      "|                 0.0|     10.0|           2.0|\n",
      "|                52.0|      8.0|           1.0|\n",
      "|                 2.0|      6.0|           1.0|\n",
      "|                 3.0|      8.0|           0.0|\n",
      "+--------------------+---------+--------------+\n",
      "only showing top 5 rows\n",
      "\n"
     ]
    }
   ],
   "source": [
    "# Create DataFrame with columns for clustering\n",
    "# Used Pandas instead of Spark because of personal preferences (and ease of use)\n",
    "\n",
    "dataframe = dataframe[[\"ORIGIN\", \"FL_DATE\", \"DEP_DELAY\", \"CANCELLED\"]]\n",
    "dataframe.ORIGIN.unique()\n",
    "\n",
    "# Definition of properties: flights per day // average delay // % of cancelled flights\n",
    "flights_day = (dataframe.groupby(\"ORIGIN\")[\"FL_DATE\"].count() / 365).round().reset_index()\n",
    "flights_day.rename(columns={\"FL_DATE\": \"number_daily_flights\"}, inplace = True) \n",
    "avg_delay = dataframe.groupby(\"ORIGIN\")[\"DEP_DELAY\"].mean().round().reset_index()\n",
    "avg_delay.rename(columns={\"DEP_DELAY\": \"avg_delay\"}, inplace = True)\n",
    "p_cancelled = (dataframe.groupby(\"ORIGIN\")[\"CANCELLED\"].sum() / dataframe.groupby(\"ORIGIN\")[\"CANCELLED\"].count()*100).round().reset_index()\n",
    "p_cancelled.rename(columns={\"CANCELLED\": \"perc_cancelled\"}, inplace = True)\n",
    "\n",
    "# Merge data & convert to spark dataframe\n",
    "merged = flights_day.merge(avg_delay, on = [\"ORIGIN\"], how = \"outer\").merge(p_cancelled, on = [\"ORIGIN\"], how = \"outer\")\n",
    "merged.drop([\"ORIGIN\"], inplace = True, axis =1)\n",
    "\n",
    "df=spark.createDataFrame(merged) \n",
    "df.show(5)"
   ]
  },
  {
   "cell_type": "code",
   "execution_count": 24,
   "metadata": {
    "colab": {
     "base_uri": "https://localhost:8080/"
    },
    "id": "HiH5qrrXQOE3",
    "outputId": "8e2e7dda-d95e-4d9d-d9ae-62bccefcd1f9"
   },
   "outputs": [
    {
     "name": "stdout",
     "output_type": "stream",
     "text": [
      "+--------------------+---------+--------------+------------------+--------------------+\n",
      "|number_daily_flights|avg_delay|perc_cancelled|assembled_features|            features|\n",
      "+--------------------+---------+--------------+------------------+--------------------+\n",
      "|                 6.0|     10.0|           2.0|    [6.0,10.0,2.0]|[0.05092602563324...|\n",
      "|                 0.0|     10.0|           2.0|    [0.0,10.0,2.0]|[0.0,0.9749781956...|\n",
      "|                52.0|      8.0|           1.0|    [52.0,8.0,1.0]|[0.44135888882143...|\n",
      "|                 2.0|      6.0|           1.0|     [2.0,6.0,1.0]|[0.01697534187774...|\n",
      "|                 3.0|      8.0|           0.0|     [3.0,8.0,0.0]|[0.02546301281662...|\n",
      "+--------------------+---------+--------------+------------------+--------------------+\n",
      "only showing top 5 rows\n",
      "\n"
     ]
    }
   ],
   "source": [
    "# Create assembler\n",
    "\n",
    "#as features will be automatically created, we set the outputCol as \"assembled_features\" to differentiate assembled data from standardized data\n",
    "assembler = VectorAssembler(inputCols = ['number_daily_flights', 'avg_delay', 'perc_cancelled'], outputCol='assembled_features')\n",
    "data = assembler.transform(df)\n",
    "\n",
    "# Standardizing neccessary. Despite having the same units, values show different variances. \n",
    "# Leaving variances unequal is equivalent to putting more weight on variables with smaller variance -> clusters will tend to be separated along variables with greater variance\n",
    "Scaler = StandardScaler().setInputCol(\"assembled_features\").setOutputCol(\"features\")\n",
    "data = Scaler.fit(data).transform(data)\n",
    "data.show(5)"
   ]
  },
  {
   "cell_type": "code",
   "execution_count": 25,
   "metadata": {
    "colab": {
     "base_uri": "https://localhost:8080/",
     "height": 393
    },
    "id": "8CrJIYfjUQl5",
    "outputId": "42d73bd0-f874-49e7-d6a6-4ed11bc898a0"
   },
   "outputs": [
    {
     "data": {
      "text/plain": [
       "Text(0.5, 1.0, 'Find the best number of clusters')"
      ]
     },
     "execution_count": 25,
     "metadata": {},
     "output_type": "execute_result"
    },
    {
     "data": {
      "image/png": "[encoded data removed]",
      "text/plain": [
       "<Figure size 576x396 with 1 Axes>"
      ]
     },
     "metadata": {},
     "output_type": "display_data"
    }
   ],
   "source": [
    "# Find best number of clusters and evaluate - utilizing the code from the lecture\n",
    "\n",
    "def evaluate(data, k):\n",
    "    kmeans = KMeans().setK(k).setSeed(111)\n",
    "    model = kmeans.fit(data)\n",
    "    predictions = model.transform(data)\n",
    "    evaluator = ClusteringEvaluator()\n",
    "    score = evaluator.evaluate(predictions)\n",
    "    return score\n",
    "\n",
    "results_df = pd.DataFrame(columns=['num', 'score'])\n",
    "for i in range(2,20):\n",
    "    results_df = results_df.append({'num': i, 'score': evaluate(data,i)}, ignore_index=True)\n",
    "    \n",
    "# Plot scores    \n",
    "results_df.plot(x='num',y='score')\n",
    "plt.title(\"Find the best number of clusters\")"
   ]
  },
  {
   "cell_type": "code",
   "execution_count": 26,
   "metadata": {
    "colab": {
     "base_uri": "https://localhost:8080/",
     "height": 382
    },
    "id": "lYciJ-EGQqCl",
    "outputId": "41c3004a-7bd0-4410-d8f6-9996581d731d"
   },
   "outputs": [
    {
     "name": "stdout",
     "output_type": "stream",
     "text": [
      "Number of clusters that produce the best result:  4 \n",
      "\n"
     ]
    },
    {
     "data": {
      "text/plain": [
       "Text(0.5, 0, '% cancelled   ')"
      ]
     },
     "execution_count": 26,
     "metadata": {},
     "output_type": "execute_result"
    },
    {
     "data": {
      "image/png": "[encoded data removed]",
      "text/plain": [
       "<Figure size 576x396 with 1 Axes>"
      ]
     },
     "metadata": {},
     "output_type": "display_data"
    }
   ],
   "source": [
    "# Calc and print cluster that leads to a better results\n",
    "\n",
    "k = int(results_df.nlargest(1,\"score\")[\"num\"].values[0])\n",
    "print(\"Number of clusters that produce the best result: \", k, \"\\n\")\n",
    "\n",
    "# K-means, fit model, centers\n",
    "kmeans = KMeans().setK(k).setSeed(111)\n",
    "model = kmeans.fit(data)\n",
    "centers = model.clusterCenters()\n",
    "\n",
    "# Assign data to clusters, transform to Pandas DF to be able to plot it\n",
    "predictions = model.transform(data)\n",
    "predictionsPD = predictions.toPandas()\n",
    "#predictionsPD.head(10)\n",
    "\n",
    "# Display results, using the cluster number as the color\n",
    "ax = plt.axes(projection='3d')\n",
    "ax.scatter3D(predictionsPD.number_daily_flights, predictionsPD.avg_delay, predictionsPD.perc_cancelled, c=predictionsPD.prediction, cmap=\"inferno\")\n",
    "plt.title(\"Cluster of airports based on three distinct properties\")\n",
    "ax.set_xlabel('\\ndaily flights', fontsize=10, rotation=150)\n",
    "ax.set_ylabel('\\navg del', fontsize =10, rotation = 95)\n",
    "ax.set_zlabel('% cancelled   ', fontsize=10, rotation=80)"
   ]
  },
  {
   "cell_type": "code",
   "execution_count": 27,
   "metadata": {
    "colab": {
     "base_uri": "https://localhost:8080/"
    },
    "id": "YOpCJ6BHMQvi",
    "outputId": "e0a24ebd-b7f4-498d-960e-b34d5ef674fb"
   },
   "outputs": [
    {
     "name": "stdout",
     "output_type": "stream",
     "text": [
      "Quality of predictions:  83.33538267104701 %\n"
     ]
    }
   ],
   "source": [
    "# Evaluate the quality of the prediction\n",
    "evaluator = ClusteringEvaluator()\n",
    "score = evaluator.evaluate(predictions)\n",
    "print( \"Quality of predictions: \", score*100,\"%\")"
   ]
  },
  {
   "cell_type": "markdown",
   "metadata": {
    "id": "conscious-crown"
   },
   "source": [
    "#### Discussion\n",
    "\n",
    "**Explain your code and discuss results**\n",
    "\n",
    "- **Code**: We started by importing the necessary libraries and loading the full dataset for the year 2016. However, the dataset didn't contain the calculated values that we wanted to base our clustering on. Hence, we had to compute the values \"# of daily flights per airport\", \"average delay per airport\" and \"% cancelled per aiport\" using the Pandas (simply for the ease of use and also it was much faster than the Spark code we used at the beginning, but we are not sure what led to this delayed computation time). After that we create our assembler & standardized the values (despite having the same format, the values showed significant variances - hence it is vital to standardize). Then it was basically just finding the best number of clusters, train the kmeans, and evaluate our prediction. \n",
    "\n",
    "- **Results**: In our case 4 clusters are proven to be ideal. From the plot we can identify two clear clusters (black and orange). Furthermore, the model's quality measured as the Silhouette Score is 83.34%. As the Silhouette Score measures how close an element is to its own cluster (cohesion) compared to other clusters (separation), it tells us that the model is relatively well matched to its own cluster as well as that the clusters a relatively well apart from each other and clearly distinguished.\n"
   ]
  },
  {
   "cell_type": "markdown",
   "metadata": {
    "id": "cloudy-paint"
   },
   "source": [
    "## Problem 5 [3 points]\n",
    "\n",
    "We now want to find communities of airports, i.e., airports that are connected based on the flights that exist.\n",
    "\n",
    "Propose an algorithm to solve this problem and plot the communities as a graph. Run the program with and without GPU support."
   ]
  },
  {
   "cell_type": "code",
   "execution_count": 28,
   "metadata": {
    "colab": {
     "base_uri": "https://localhost:8080/"
    },
    "id": "behind-prediction",
    "outputId": "e71eec2c-6e55-4f75-e775-5934bbae4ed0"
   },
   "outputs": [
    {
     "name": "stdout",
     "output_type": "stream",
     "text": [
      "+---+---+---+\n",
      "|src|dst|cnt|\n",
      "+---+---+---+\n",
      "|DTW|BGM|877|\n",
      "|ANC|DLG| 84|\n",
      "|HIB|INL|365|\n",
      "|MSP|INL|263|\n",
      "|MCO|PSE|507|\n",
      "+---+---+---+\n",
      "only showing top 5 rows\n",
      "\n"
     ]
    }
   ],
   "source": [
    "edges = spark.sql(\"\"\"WITH all_edges AS (SELECT ORIGIN AS src, \n",
    "                                               DEST AS dst, \n",
    "                                               COUNT(*) AS cnt\n",
    "                                        FROM flights\n",
    "                                        GROUP BY src, dst),\n",
    "                          dep_airport AS (SELECT ORIGIN as src,\n",
    "                                                  COUNT(*) AS src_cnt\n",
    "                                          FROM flights\n",
    "                                          GROUP BY src),\n",
    "                          arr_airport AS (SELECT DEST AS dst,\n",
    "                                                  COUNT(*) AS dst_cnt\n",
    "                                          FROM flights\n",
    "                                          GROUP BY dst)\n",
    "                      SELECT e.src, e.dst, e.cnt\n",
    "                      FROM all_edges e\n",
    "                      LEFT JOIN dep_airport d ON e.src = d.src \n",
    "                      LEFT JOIN arr_airport a ON e.dst = a.dst \n",
    "                      WHERE d.src_cnt/e.cnt > 0.05 OR a.dst_cnt/e.cnt > 0.05\n",
    "                  \"\"\")\n",
    "\n",
    "flightsDF.createOrReplaceTempView(\"edges\")\n",
    "edges.show(5)\n",
    "\n",
    "vertices = spark.sql( \"\"\"SELECT f.id, \n",
    "                         FLOAT(TRIM(SUBSTRING_INDEX(a.coordinates,',',1))) AS lon, \n",
    "                         FLOAT(TRIM(SUBSTRING_INDEX(a.coordinates,',',-1))) AS lat\n",
    "                         FROM (SELECT ORIGIN AS id FROM edges\n",
    "                            UNION SELECT DEST AS id FROM edges) f \n",
    "                        JOIN airports a ON f.id = a.iata_code\"\"\").createOrReplaceTempView(\"vertices\")\n",
    "\n",
    "\n",
    "vertices_mod = spark.sql(\"\"\"SELECT *\n",
    "                            FROM vertices\n",
    "                            WHERE lon < -50 AND lat > 15\n",
    "                        \"\"\")\n",
    "\n",
    "#vertices_mod.show(5)\n"
   ]
  },
  {
   "cell_type": "code",
   "execution_count": 29,
   "metadata": {
    "id": "geographic-jimmy"
   },
   "outputs": [],
   "source": [
    "# Run static Label Propagation Algorithm for detecting communities in networks.\n",
    "\n",
    "import networkx as nx\n",
    "from graphframes import *\n",
    "\n",
    "g = GraphFrame(vertices_mod, edges)\n",
    "\n",
    "result = g.labelPropagation(maxIter=2)   #maxIter = 2 because runtime with a higher Iter was just too slow"
   ]
  },
  {
   "cell_type": "code",
   "execution_count": 30,
   "metadata": {
    "id": "aNCg_GSsEvVt"
   },
   "outputs": [],
   "source": [
    "model = result.toPandas()"
   ]
  },
  {
   "cell_type": "code",
   "execution_count": 31,
   "metadata": {
    "colab": {
     "base_uri": "https://localhost:8080/",
     "height": 206
    },
    "id": "j1iTBtLARB04",
    "outputId": "cd0e5044-9fae-43d6-fd46-e8157cf3ed8b"
   },
   "outputs": [
    {
     "data": {
      "text/html": [
       "<div>\n",
       "<style scoped>\n",
       "    .dataframe tbody tr th:only-of-type {\n",
       "        vertical-align: middle;\n",
       "    }\n",
       "\n",
       "    .dataframe tbody tr th {\n",
       "        vertical-align: top;\n",
       "    }\n",
       "\n",
       "    .dataframe thead th {\n",
       "        text-align: right;\n",
       "    }\n",
       "</style>\n",
       "<table border=\"1\" class=\"dataframe\">\n",
       "  <thead>\n",
       "    <tr style=\"text-align: right;\">\n",
       "      <th></th>\n",
       "      <th>id</th>\n",
       "      <th>lon</th>\n",
       "      <th>lat</th>\n",
       "      <th>label</th>\n",
       "    </tr>\n",
       "  </thead>\n",
       "  <tbody>\n",
       "    <tr>\n",
       "      <th>0</th>\n",
       "      <td>BTM</td>\n",
       "      <td>-112.497002</td>\n",
       "      <td>45.954800</td>\n",
       "      <td>970662608897</td>\n",
       "    </tr>\n",
       "    <tr>\n",
       "      <th>1</th>\n",
       "      <td>ATW</td>\n",
       "      <td>-88.519096</td>\n",
       "      <td>44.258099</td>\n",
       "      <td>970662608897</td>\n",
       "    </tr>\n",
       "    <tr>\n",
       "      <th>2</th>\n",
       "      <td>IND</td>\n",
       "      <td>-86.294403</td>\n",
       "      <td>39.717300</td>\n",
       "      <td>970662608897</td>\n",
       "    </tr>\n",
       "    <tr>\n",
       "      <th>3</th>\n",
       "      <td>LAX</td>\n",
       "      <td>-118.407997</td>\n",
       "      <td>33.942501</td>\n",
       "      <td>970662608897</td>\n",
       "    </tr>\n",
       "    <tr>\n",
       "      <th>4</th>\n",
       "      <td>YAK</td>\n",
       "      <td>-139.660004</td>\n",
       "      <td>59.503300</td>\n",
       "      <td>1640677507072</td>\n",
       "    </tr>\n",
       "  </tbody>\n",
       "</table>\n",
       "</div>"
      ],
      "text/plain": [
       "    id         lon        lat          label\n",
       "0  BTM -112.497002  45.954800   970662608897\n",
       "1  ATW  -88.519096  44.258099   970662608897\n",
       "2  IND  -86.294403  39.717300   970662608897\n",
       "3  LAX -118.407997  33.942501   970662608897\n",
       "4  YAK -139.660004  59.503300  1640677507072"
      ]
     },
     "execution_count": 31,
     "metadata": {},
     "output_type": "execute_result"
    }
   ],
   "source": [
    "model.head(5)"
   ]
  },
  {
   "cell_type": "code",
   "execution_count": 32,
   "metadata": {
    "colab": {
     "base_uri": "https://localhost:8080/"
    },
    "id": "6P85_x1_XrD6",
    "outputId": "bfa0f96e-9e17-4269-fc6d-1e3bbb6f55f0"
   },
   "outputs": [
    {
     "data": {
      "text/plain": [
       "id   lon          lat        label       \n",
       "YUM  -114.606003  32.656601  627065225216    1\n",
       "FAT  -119.718002  36.776199  970662608897    1\n",
       "EUG  -123.211998  44.124599  970662608897    1\n",
       "EVV  -87.532402   38.036999  970662608897    1\n",
       "EWN  -77.042900   35.073002  970662608897    1\n",
       "dtype: int64"
      ]
     },
     "execution_count": 32,
     "metadata": {},
     "output_type": "execute_result"
    }
   ],
   "source": [
    "model.value_counts().head(5)"
   ]
  },
  {
   "cell_type": "code",
   "execution_count": 38,
   "metadata": {
    "colab": {
     "base_uri": "https://localhost:8080/",
     "height": 362
    },
    "id": "7sfjWjhfBGol",
    "outputId": "ccff233e-f8c8-4af9-d204-cdbf7ee3ff9e"
   },
   "outputs": [
    {
     "data": {
      "text/plain": [
       "<matplotlib.axes._subplots.AxesSubplot at 0x7f5eeb0dafd0>"
      ]
     },
     "execution_count": 38,
     "metadata": {},
     "output_type": "execute_result"
    },
    {
     "data": {
      "image/png": "[encoded data removed]",
      "text/plain": [
       "<Figure size 576x396 with 2 Axes>"
      ]
     },
     "metadata": {},
     "output_type": "display_data"
    }
   ],
   "source": [
    "model.plot(x=\"lon\",y=\"lat\",c=\"label\",s=25, cmap=\"Paired\",kind=\"scatter\",title=\"Communities of Airports Cluster\")"
   ]
  },
  {
   "cell_type": "markdown",
   "metadata": {
    "id": "convinced-symphony"
   },
   "source": [
    "#### Discussion\n",
    "\n",
    "**Explain your code and discuss results**\n",
    "\n",
    "- **Code**: We started by defining the edges and vertices of the graph. For the edges we counted the airports, splitted by departuring and arriving airports. Our goal was to plot just the airports which's connection is significant, in our case when more than 5% of the the flights are between to airports. Also, as an additional step, we removed all airports with a lon > -50 and a lat < 15 to clean the picture, since the default plot allocated too few space for the cluster. As a next and crucial step, we apply an a so called Label Propagation Algorithm that detects communities in networks. It assigns a label for each coordinates indicating to which community the coordinates belongs to. We are plotting the communities which can be distinguished by colour.\n",
    "\n",
    "- **Results**: After using the graphframes library and creating a Pandas DataFrame, we were able to plot the results. The result indicates three distinguishable communities regarding the number of flights for the airport. Of course, these results are subject to several unscientific assumptions and can be improved further.\n",
    "To get a better understanding of these results, it would be helpful to plot the dots on a real map.\n",
    "\n",
    "- **Colab's GPU Support**: We used for this task both GPU support and no GPU support. To us, however, it was not entirely clear to see a benefit from the GPU support. We got the message that the GPU support is not necessary for this task and that we can run the task without the support. Hence, we assume that computing power of the computer used is sufficient for this task. We will try to experiment with Colab's GPU support in upcoming deep learning projects. \n",
    "\n"
   ]
  }
 ],
 "metadata": {
  "accelerator": "GPU",
  "colab": {
   "collapsed_sections": [
    "initial-insight",
    "conscious-crown"
   ],
   "name": "Group_project_SPARK_v1.ipynb",
   "provenance": []
  },
  "kernelspec": {
   "display_name": "Python 3",
   "language": "python",
   "name": "python3"
  },
  "language_info": {
   "codemirror_mode": {
    "name": "ipython",
    "version": 3
   },
   "file_extension": ".py",
   "mimetype": "text/x-python",
   "name": "python",
   "nbconvert_exporter": "python",
   "pygments_lexer": "ipython3",
   "version": "3.8.5"
  }
 },
 "nbformat": 4,
 "nbformat_minor": 5
}
